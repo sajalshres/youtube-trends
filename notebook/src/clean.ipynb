{
 "cells": [
  {
   "cell_type": "markdown",
   "id": "382b9427-3305-4a88-b14f-020f6cf431ff",
   "metadata": {},
   "source": [
    "# Clean Dataset"
   ]
  },
  {
   "cell_type": "code",
   "execution_count": 1,
   "id": "89f6bf59-a036-48be-b62f-365df12eabf3",
   "metadata": {},
   "outputs": [],
   "source": [
    "# common imports\n",
    "import random\n",
    "import json\n",
    "import csv\n",
    "\n",
    "import numpy as np\n",
    "import pandas as pd\n",
    "import matplotlib.pyplot as plt"
   ]
  },
  {
   "cell_type": "code",
   "execution_count": 2,
   "id": "187d311c-5fb7-4fe0-817b-7f1e61089229",
   "metadata": {},
   "outputs": [
    {
     "name": "stdout",
     "output_type": "stream",
     "text": [
      "Countries:  ['BR', 'CA', 'DE', 'FR', 'GB', 'IN', 'JP', 'KR', 'MX', 'RU', 'US']\n"
     ]
    }
   ],
   "source": [
    "# Extract country codes\n",
    "import glob\n",
    "\n",
    "countries = [\n",
    "    item.split(\"/\")[1].split(\"_\")[0]\n",
    "    for item in glob.glob(\"data/*_youtube_trending_data.csv\")\n",
    "]\n",
    "countries.sort()\n",
    "print(\"Countries: \", countries)   "
   ]
  },
  {
   "cell_type": "code",
   "execution_count": 34,
   "id": "e97f9e53-c099-456c-b966-fc1bed1eac0c",
   "metadata": {},
   "outputs": [
    {
     "name": "stdout",
     "output_type": "stream",
     "text": [
      "Not empty or Not forced\n"
     ]
    }
   ],
   "source": [
    "if not [] and not False:\n",
    "    print(\"Not empty or Not forced\")\n"
   ]
  },
  {
   "cell_type": "code",
   "execution_count": 62,
   "id": "b3e99685-026e-4823-8da3-0e0146e6c153",
   "metadata": {},
   "outputs": [
    {
     "name": "stdout",
     "output_type": "stream",
     "text": [
      "Country BR has 119792 rows and 32 categories\n",
      "15 categories after cleaning\n",
      "18853 rows after cleaning\n",
      "\n",
      "\n",
      "Country CA has 119744 rows and 32 categories\n",
      "15 categories after cleaning\n",
      "23483 rows after cleaning\n",
      "\n",
      "\n",
      "Country DE has 119743 rows and 32 categories\n",
      "15 categories after cleaning\n",
      "27947 rows after cleaning\n",
      "\n",
      "\n",
      "Country FR has 119791 rows and 32 categories\n",
      "15 categories after cleaning\n",
      "24792 rows after cleaning\n",
      "\n",
      "\n",
      "Country GB has 119795 rows and 32 categories\n",
      "15 categories after cleaning\n",
      "22856 rows after cleaning\n",
      "\n",
      "\n",
      "Country IN has 113910 rows and 32 categories\n",
      "15 categories after cleaning\n",
      "33458 rows after cleaning\n",
      "\n",
      "\n",
      "Country JP has 119787 rows and 32 categories\n",
      "15 categories after cleaning\n",
      "16374 rows after cleaning\n",
      "\n",
      "\n",
      "Country KR has 116754 rows and 32 categories\n",
      "15 categories after cleaning\n",
      "14816 rows after cleaning\n",
      "\n",
      "\n",
      "Country MX has 119599 rows and 32 categories\n",
      "15 categories after cleaning\n",
      "16993 rows after cleaning\n",
      "\n",
      "\n",
      "Country RU has 118130 rows and 32 categories\n",
      "15 categories after cleaning\n",
      "71836 rows after cleaning\n",
      "\n",
      "\n",
      "Country US has 119791 rows and 32 categories\n",
      "15 categories after cleaning\n",
      "21707 rows after cleaning\n",
      "\n",
      "\n"
     ]
    }
   ],
   "source": [
    "def get_data(country):\n",
    "    df = pd.read_csv(f\"data/{country}_youtube_trending_data.csv\")\n",
    "    columns = {\n",
    "        \"video_id\": \"id\",\n",
    "        \"title\": \"title\",\n",
    "        \"publishedAt\": \"published_at\",\n",
    "        \"channelId\": \"channel_id\",\n",
    "        \"channelTitle\": \"channel_title\",\n",
    "        \"categoryId\": \"category_id\",\n",
    "        \"trending_date\": \"trending_date\",\n",
    "        \"tags\": \"tags\",\n",
    "        \"view_count\": \"view_count\",\n",
    "        \"likes\": \"likes\",\n",
    "        \"dislikes\": \"dislikes\",\n",
    "        \"comment_count\": \"comment_count\",\n",
    "        \"thumbnail_link\": \"thumbnail_link\",\n",
    "        \"comments_disabled\": \"comments_disabled\",\n",
    "        \"ratings_disabled\": \"ratings_disabled\",\n",
    "        \"description\": \"description\",\n",
    "    }\n",
    "    df = df.rename(columns=columns)\n",
    "\n",
    "    return df\n",
    "\n",
    "\n",
    "def get_categories(country):\n",
    "    # all dataset except for US are missing categoryId 29\n",
    "    # so we are taking US as base for all\n",
    "    with open(f\"data/US_category_id.json\") as file:\n",
    "        raw_data = json.load(file)[\"items\"]\n",
    "        data = {int(item[\"id\"]): item[\"snippet\"][\"title\"] for item in raw_data}\n",
    "\n",
    "    return pd.DataFrame(\n",
    "        data={\n",
    "            \"id\": list(data.keys()),\n",
    "            \"name\": list(data.values()),\n",
    "        }\n",
    "    )\n",
    "\n",
    "\n",
    "def clean_data(data):\n",
    "    data = data.drop_duplicates([\"id\"], keep=\"last\")\n",
    "\n",
    "    # remove unused columns\n",
    "    unused_columns = [\"thumbnail_link\", \"description\"]\n",
    "    data = data.drop(unused_columns, axis=1)\n",
    "\n",
    "    return data\n",
    "\n",
    "\n",
    "for country in countries:\n",
    "    # get data\n",
    "    df = get_data(country)\n",
    "    categories_df = get_categories(country)\n",
    "\n",
    "    print(f\"Country {country} has {len(df)} rows and {len(categories_df)} categories\")\n",
    "\n",
    "    # remove categories with no data\n",
    "    current_categories = df.category_id.unique()\n",
    "    current_categories.sort()\n",
    "    categories_df = categories_df[categories_df[\"id\"].isin(current_categories)]\n",
    "\n",
    "    print(f\"{len(categories_df)} categories after cleaning\")\n",
    "\n",
    "    df = clean_data(data=df)\n",
    "    \n",
    "    df.category_id = df.category_id.map(lambda id: categories_df[categories_df.id == id].name.values[0])\n",
    "    df = df.rename(columns={\"category_id\": \"category\"})\n",
    "\n",
    "    print(f\"{len(df)} rows after cleaning\\n\\n\")\n",
    "\n",
    "    df.to_csv(f\"data/{country}_cleaned_data.csv\", index=False)"
   ]
  },
  {
   "cell_type": "code",
   "execution_count": null,
   "id": "96d81a95-40ac-468b-bd4f-1f2df290a2d6",
   "metadata": {},
   "outputs": [],
   "source": []
  }
 ],
 "metadata": {
  "kernelspec": {
   "display_name": "Python 3 (ipykernel)",
   "language": "python",
   "name": "python3"
  },
  "language_info": {
   "codemirror_mode": {
    "name": "ipython",
    "version": 3
   },
   "file_extension": ".py",
   "mimetype": "text/x-python",
   "name": "python",
   "nbconvert_exporter": "python",
   "pygments_lexer": "ipython3",
   "version": "3.10.4"
  }
 },
 "nbformat": 4,
 "nbformat_minor": 5
}
