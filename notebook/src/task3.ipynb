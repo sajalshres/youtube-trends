{
 "cells": [
  {
   "cell_type": "markdown",
   "id": "a071e897-4dba-46bf-b2b0-39cbbf2c7873",
   "metadata": {},
   "source": [
    "# Identify most popular tags across countries"
   ]
  },
  {
   "cell_type": "code",
   "execution_count": 1,
   "id": "c1f5d649-3711-47d3-a349-d049dcd1649c",
   "metadata": {},
   "outputs": [],
   "source": [
    "# common imports\n",
    "import random\n",
    "import json\n",
    "import csv\n",
    "\n",
    "import numpy as np\n",
    "import pandas as pd"
   ]
  },
  {
   "cell_type": "code",
   "execution_count": null,
   "id": "6b75ca9d-5955-4fc2-b4c6-6625caaaa4eb",
   "metadata": {},
   "outputs": [],
   "source": []
  }
 ],
 "metadata": {
  "kernelspec": {
   "display_name": "Python 3 (ipykernel)",
   "language": "python",
   "name": "python3"
  },
  "language_info": {
   "codemirror_mode": {
    "name": "ipython",
    "version": 3
   },
   "file_extension": ".py",
   "mimetype": "text/x-python",
   "name": "python",
   "nbconvert_exporter": "python",
   "pygments_lexer": "ipython3",
   "version": "3.10.4"
  }
 },
 "nbformat": 4,
 "nbformat_minor": 5
}
